{
  "nbformat": 4,
  "nbformat_minor": 0,
  "metadata": {
    "colab": {
      "name": "dog-breed-identification.ipynb",
      "provenance": [],
      "collapsed_sections": [],
      "toc_visible": true
    },
    "kernelspec": {
      "name": "python3",
      "display_name": "Python 3"
    },
    "language_info": {
      "name": "python"
    }
  },
  "cells": [
    {
      "cell_type": "markdown",
      "metadata": {
        "id": "yJbwTsHYI_Fc"
      },
      "source": [
        "# Identifying Different Dog Breeds Using Transfer Learning and TensorFlow 2.0 \n",
        "\n",
        "This notebook look into some of the basic datascience and machine learning/deep learning concepts by trying to solve the problem dog breed identification.  \n",
        "Since the desired outcome here is a breed of a dog from various breeds, this is a 'Supervised learning: Multi-class classification' problem.  \n",
        "\n",
        "## Problem Statement\n",
        "\n",
        "> Can a machine learning/deep learning model identify the breed of a dog by looking at the image of the dog?  \n",
        "\n",
        "## Data to slove the problem\n",
        "\n",
        "The data for this problem is downloaded from the [Kaggle Dog Breed Identification Competition](https://www.kaggle.com/c/dog-breed-identification/data).  \n",
        "The data is full of images of differnet dogs, hence **Unstructured Data**.  \n",
        "There are 120 breeds of dogs(Labels), which means 120 different classes.  \n",
        "- In the Train dataset, there are around 10,200+ images of dogs with labels.  \n",
        "- In the test dataset, there are around 10,300+ images of dogs without labels.  \n",
        "\n",
        "***NOTE:***  \n",
        "1. This notebook created using Google Colab.  \n",
        "2. The complete dataset is downloaed from Kaggle competition page and uploaded to Google Drive in order to import and use it, in this notebook.  \n",
        "3. Anyone could download them from the Kaggle website or use Kaggle API to import the data.  \n",
        "\n",
        "---"
      ]
    },
    {
      "cell_type": "markdown",
      "metadata": {
        "id": "OLKY8YX8QhOA"
      },
      "source": [
        "## 0. Importing all necessary tools"
      ]
    },
    {
      "cell_type": "code",
      "metadata": {
        "id": "-_F53jeJVMK0"
      },
      "source": [
        "# import the most important tool first\n",
        "import tensorflow as tf"
      ],
      "execution_count": 1,
      "outputs": []
    },
    {
      "cell_type": "code",
      "metadata": {
        "colab": {
          "base_uri": "https://localhost:8080/"
        },
        "id": "FwYOsBzuQpQW",
        "outputId": "cb92b071-756b-40f4-bd64-48db1ed2144b"
      },
      "source": [
        "# checking tensorflow's version\n",
        "print(\"TensorFlow version: \", tf.__version__)"
      ],
      "execution_count": 2,
      "outputs": [
        {
          "output_type": "stream",
          "text": [
            "TensorFlow version:  2.5.0\n"
          ],
          "name": "stdout"
        }
      ]
    },
    {
      "cell_type": "code",
      "metadata": {
        "id": "hO9zDLBpQw_z"
      },
      "source": [
        ""
      ],
      "execution_count": null,
      "outputs": []
    }
  ]
}